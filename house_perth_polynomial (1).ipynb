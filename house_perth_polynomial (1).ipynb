{
  "cells": [
    {
      "cell_type": "code",
      "execution_count": 3,
      "metadata": {
        "id": "eMzVxadg71PM"
      },
      "outputs": [],
      "source": [
        "import pandas as pd\n",
        "import numpy as np\n",
        "import matplotlib.pyplot as plt\n",
        "from sklearn.model_selection import train_test_split\n",
        "from sklearn.linear_model import LinearRegression\n",
        "from sklearn.preprocessing import PolynomialFeatures\n",
        "from sklearn.metrics import mean_squared_error, r2_score\n",
        "from sklearn.preprocessing import StandardScaler"
      ]
    },
    {
      "cell_type": "code",
      "execution_count": 4,
      "metadata": {
        "colab": {
          "base_uri": "https://localhost:8080/"
        },
        "id": "JUj6Wiz78NCe",
        "outputId": "930b0f7b-f872-4812-987f-6eddc29157a6"
      },
      "outputs": [
        {
          "output_type": "stream",
          "name": "stdout",
          "text": [
            "<bound method NDFrame.head of                   ADDRESS           SUBURB    PRICE  BEDROOMS  BATHROOMS  \\\n",
            "0           1 Acorn Place       South Lake   565000         4          2   \n",
            "1             1 Addis Way            Wandi   365000         3          2   \n",
            "2         1 Ainsley Court          Camillo   287000         3          1   \n",
            "3         1 Albert Street         Bellevue   255000         2          1   \n",
            "4            1 Aman Place        Lockridge   325000         4          1   \n",
            "...                   ...              ...      ...       ...        ...   \n",
            "33651      9C Gold Street  South Fremantle  1040000         4          3   \n",
            "33652      9C Pycombe Way      Westminster   410000         3          2   \n",
            "33653      9D Pycombe Way      Westminster   427000         3          2   \n",
            "33654     9D Shalford Way       Girrawheen   295000         3          1   \n",
            "33655  9E Margaret Street          Midland   295000         3          1   \n",
            "\n",
            "       GARAGE  LAND_AREA  FLOOR_AREA  BUILD_YEAR  CBD_DIST  \\\n",
            "0         2.0        600         160      2003.0     18300   \n",
            "1         2.0        351         139      2013.0     26900   \n",
            "2         1.0        719          86      1979.0     22600   \n",
            "3         2.0        651          59      1953.0     17900   \n",
            "4         2.0        466         131      1998.0     11200   \n",
            "...       ...        ...         ...         ...       ...   \n",
            "33651     2.0        292         245      2013.0     16100   \n",
            "33652     2.0        228         114         NaN      9600   \n",
            "33653     2.0        261         112         NaN      9600   \n",
            "33654     2.0        457          85      1974.0     12600   \n",
            "33655     2.0        296          95         NaN     16700   \n",
            "\n",
            "                    NEAREST_STN  NEAREST_STN_DIST  DATE_SOLD  POSTCODE  \\\n",
            "0      Cockburn Central Station              1800  09-2018\\r      6164   \n",
            "1               Kwinana Station              4900  02-2019\\r      6167   \n",
            "2               Challis Station              1900  06-2015\\r      6111   \n",
            "3               Midland Station              3600  07-2018\\r      6056   \n",
            "4            Bassendean Station              2000  11-2016\\r      6054   \n",
            "...                         ...               ...        ...       ...   \n",
            "33651         Fremantle Station              1500  03-2016\\r      6162   \n",
            "33652          Stirling Station              4600  02-2017\\r      6061   \n",
            "33653          Stirling Station              4600  02-2017\\r      6061   \n",
            "33654           Warwick Station              4400  10-2016\\r      6064   \n",
            "33655           Midland Station              1700  05-2016\\r      6056   \n",
            "\n",
            "        LATITUDE   LONGITUDE                                  NEAREST_SCH  \\\n",
            "0     -32.115900  115.842450                  LAKELAND SENIOR HIGH SCHOOL   \n",
            "1     -32.193470  115.859554                               ATWELL COLLEGE   \n",
            "2     -32.120578  115.993579                 KELMSCOTT SENIOR HIGH SCHOOL   \n",
            "3     -31.900547  116.038009                 SWAN VIEW SENIOR HIGH SCHOOL   \n",
            "4     -31.885790  115.947780                                KIARA COLLEGE   \n",
            "...          ...         ...                                          ...   \n",
            "33651 -32.064580  115.751820                  CHRISTIAN BROTHERS' COLLEGE   \n",
            "33652 -31.867055  115.841403  JOHN SEPTIMUS ROE ANGLICAN COMMUNITY SCHOOL   \n",
            "33653 -31.866890  115.841418  JOHN SEPTIMUS ROE ANGLICAN COMMUNITY SCHOOL   \n",
            "33654 -31.839680  115.842410                GIRRAWHEEN SENIOR HIGH SCHOOL   \n",
            "33655 -31.882163  116.014755                             LA SALLE COLLEGE   \n",
            "\n",
            "       NEAREST_SCH_DIST  NEAREST_SCH_RANK  \n",
            "0              0.828339               NaN  \n",
            "1              5.524324             129.0  \n",
            "2              1.649178             113.0  \n",
            "3              1.571401               NaN  \n",
            "4              1.514922               NaN  \n",
            "...                 ...               ...  \n",
            "33651          1.430350              49.0  \n",
            "33652          1.679644              35.0  \n",
            "33653          1.669159              35.0  \n",
            "33654          0.358494               NaN  \n",
            "33655          1.055564              53.0  \n",
            "\n",
            "[33656 rows x 19 columns]>\n"
          ]
        }
      ],
      "source": [
        "df = pd.read_csv('all_perth_310121.csv')\n",
        "print(df.head)"
      ]
    },
    {
      "cell_type": "code",
      "execution_count": 5,
      "metadata": {
        "colab": {
          "base_uri": "https://localhost:8080/"
        },
        "id": "M4a94PTs8nQ1",
        "outputId": "a8fa0752-2f0b-4222-cf5e-19332e228eae"
      },
      "outputs": [
        {
          "output_type": "stream",
          "name": "stdout",
          "text": [
            "Index(['ADDRESS', 'SUBURB', 'PRICE', 'BEDROOMS', 'BATHROOMS', 'GARAGE',\n",
            "       'LAND_AREA', 'FLOOR_AREA', 'BUILD_YEAR', 'CBD_DIST', 'NEAREST_STN',\n",
            "       'NEAREST_STN_DIST', 'DATE_SOLD', 'POSTCODE', 'LATITUDE', 'LONGITUDE',\n",
            "       'NEAREST_SCH', 'NEAREST_SCH_DIST', 'NEAREST_SCH_RANK'],\n",
            "      dtype='object')\n"
          ]
        }
      ],
      "source": [
        "print(df.columns)"
      ]
    },
    {
      "cell_type": "code",
      "execution_count": 6,
      "metadata": {
        "colab": {
          "base_uri": "https://localhost:8080/"
        },
        "id": "ZKxPEq6n-1WU",
        "outputId": "0ba5f564-aab4-4e48-f435-44b7f2844fdd"
      },
      "outputs": [
        {
          "output_type": "stream",
          "name": "stdout",
          "text": [
            "ADDRESS             0\n",
            "SUBURB              0\n",
            "PRICE               0\n",
            "BEDROOMS            0\n",
            "BATHROOMS           0\n",
            "GARAGE              0\n",
            "LAND_AREA           0\n",
            "FLOOR_AREA          0\n",
            "BUILD_YEAR          0\n",
            "CBD_DIST            0\n",
            "NEAREST_STN         0\n",
            "NEAREST_STN_DIST    0\n",
            "DATE_SOLD           0\n",
            "POSTCODE            0\n",
            "LATITUDE            0\n",
            "LONGITUDE           0\n",
            "NEAREST_SCH         0\n",
            "NEAREST_SCH_DIST    0\n",
            "NEAREST_SCH_RANK    0\n",
            "dtype: int64\n"
          ]
        }
      ],
      "source": [
        "df.fillna({'BUILD_YEAR': df['BUILD_YEAR'].median()}, inplace=True)\n",
        "df.fillna({'GARAGE': df['GARAGE'].median()}, inplace=True)\n",
        "df.fillna({'NEAREST_SCH_RANK': df['NEAREST_SCH_RANK'].median()}, inplace=True)\n",
        "\n",
        "# Check for missing values again to confirm\n",
        "print(df.isna().sum())\n"
      ]
    },
    {
      "cell_type": "code",
      "execution_count": 7,
      "metadata": {
        "id": "M_qctDxR8rrn"
      },
      "outputs": [],
      "source": [
        "features = [ 'CBD_DIST', 'NEAREST_STN_DIST',\n",
        "            'NEAREST_SCH_DIST', 'BEDROOMS', 'BATHROOMS', 'GARAGE', 'LAND_AREA', 'FLOOR_AREA', 'BUILD_YEAR']\n",
        "target = 'PRICE'\n",
        "x = df[features]\n",
        "y = df[target]"
      ]
    },
    {
      "cell_type": "code",
      "execution_count": 8,
      "metadata": {
        "colab": {
          "base_uri": "https://localhost:8080/"
        },
        "id": "hZSObgIWKlL_",
        "outputId": "59bde93a-95ab-4b46-b503-557fdeb8da8f"
      },
      "outputs": [
        {
          "output_type": "stream",
          "name": "stdout",
          "text": [
            "[[-0.13000197 -0.60586722 -0.56525999 ... -0.12823399 -0.32594899\n",
            "   0.63933097]\n",
            " [ 0.62675739  0.08378837  2.12434833 ... -0.14315019 -0.61720341\n",
            "   1.13891243]\n",
            " [ 0.24837771 -0.58362027 -0.09512716 ... -0.12110537 -1.35227407\n",
            "  -0.55966453]\n",
            " ...\n",
            " [-0.89556086  0.01704751 -0.0836833  ... -0.14854158 -0.99167337\n",
            "   0.2396658 ]\n",
            " [-0.63157504 -0.0274464  -0.83436142 ... -0.13680032 -1.36614333\n",
            "  -0.80945526]\n",
            " [-0.27079441 -0.62811418 -0.43511764 ... -0.14644493 -1.22745075\n",
            "   0.2396658 ]]\n"
          ]
        }
      ],
      "source": [
        "scaler = StandardScaler()\n",
        "x_scaler = scaler.fit_transform(x)\n",
        "print(x_scaler)"
      ]
    },
    {
      "cell_type": "code",
      "execution_count": 9,
      "metadata": {
        "colab": {
          "base_uri": "https://localhost:8080/"
        },
        "id": "dI22lhA8-rkA",
        "outputId": "46be6bf1-532a-4e61-8a25-74b01d053924"
      },
      "outputs": [
        {
          "output_type": "stream",
          "name": "stdout",
          "text": [
            "       CBD_DIST  NEAREST_STN_DIST  NEAREST_SCH_DIST  BEDROOMS  BATHROOMS  \\\n",
            "0         18300              1800          0.828339         4          2   \n",
            "1         26900              4900          5.524324         3          2   \n",
            "2         22600              1900          1.649178         3          1   \n",
            "3         17900              3600          1.571401         2          1   \n",
            "4         11200              2000          1.514922         4          1   \n",
            "...         ...               ...               ...       ...        ...   \n",
            "33651     16100              1500          1.430350         4          3   \n",
            "33652      9600              4600          1.679644         3          2   \n",
            "33653      9600              4600          1.669159         3          2   \n",
            "33654     12600              4400          0.358494         3          1   \n",
            "33655     16700              1700          1.055564         3          1   \n",
            "\n",
            "       GARAGE  LAND_AREA  FLOOR_AREA  BUILD_YEAR  \n",
            "0         2.0        600         160      2003.0  \n",
            "1         2.0        351         139      2013.0  \n",
            "2         1.0        719          86      1979.0  \n",
            "3         2.0        651          59      1953.0  \n",
            "4         2.0        466         131      1998.0  \n",
            "...       ...        ...         ...         ...  \n",
            "33651     2.0        292         245      2013.0  \n",
            "33652     2.0        228         114      1995.0  \n",
            "33653     2.0        261         112      1995.0  \n",
            "33654     2.0        457          85      1974.0  \n",
            "33655     2.0        296          95      1995.0  \n",
            "\n",
            "[33656 rows x 9 columns]\n",
            "0         565000\n",
            "1         365000\n",
            "2         287000\n",
            "3         255000\n",
            "4         325000\n",
            "          ...   \n",
            "33651    1040000\n",
            "33652     410000\n",
            "33653     427000\n",
            "33654     295000\n",
            "33655     295000\n",
            "Name: PRICE, Length: 33656, dtype: int64\n"
          ]
        }
      ],
      "source": [
        "print(x)\n",
        "print(y)"
      ]
    },
    {
      "cell_type": "code",
      "execution_count": 10,
      "metadata": {
        "colab": {
          "base_uri": "https://localhost:8080/"
        },
        "id": "qeW-PeHv-uuS",
        "outputId": "9769ab02-171b-498f-ce62-52fff9801863"
      },
      "outputs": [
        {
          "output_type": "stream",
          "name": "stdout",
          "text": [
            "CBD_DIST            0\n",
            "NEAREST_STN_DIST    0\n",
            "NEAREST_SCH_DIST    0\n",
            "BEDROOMS            0\n",
            "BATHROOMS           0\n",
            "GARAGE              0\n",
            "LAND_AREA           0\n",
            "FLOOR_AREA          0\n",
            "BUILD_YEAR          0\n",
            "dtype: int64\n",
            "0\n"
          ]
        }
      ],
      "source": [
        "print(x.isna().sum())\n",
        "print(y.isna().sum())"
      ]
    },
    {
      "cell_type": "code",
      "execution_count": 11,
      "metadata": {
        "colab": {
          "base_uri": "https://localhost:8080/"
        },
        "id": "TyTme0xoAA43",
        "outputId": "d03b4354-d4a2-41c5-f8e8-92e3a3f1d52c"
      },
      "outputs": [
        {
          "output_type": "stream",
          "name": "stdout",
          "text": [
            "26924\n",
            "6732\n",
            "26924\n",
            "6732\n"
          ]
        }
      ],
      "source": [
        "x_train, x_test, y_train, y_test = train_test_split(x, y, test_size=0.2, random_state=42)\n",
        "print(len(x_train))\n",
        "print(len(x_test))\n",
        "print(len(y_train))\n",
        "print(len(y_test))"
      ]
    },
    {
      "cell_type": "code",
      "execution_count": 12,
      "metadata": {
        "colab": {
          "base_uri": "https://localhost:8080/"
        },
        "id": "vNV3Cu3QGmEU",
        "outputId": "2ff02c45-202b-4af9-f1f4-0be7c8973ca6"
      },
      "outputs": [
        {
          "output_type": "execute_result",
          "data": {
            "text/plain": [
              "(6732, 715)"
            ]
          },
          "metadata": {},
          "execution_count": 12
        }
      ],
      "source": [
        "poly = PolynomialFeatures(degree=4)\n",
        "x_train_poly = poly.fit_transform(x_train)\n",
        "x_test_poly = poly.transform(x_test)\n",
        "x_train_poly.shape\n",
        "x_test_poly.shape"
      ]
    },
    {
      "cell_type": "code",
      "execution_count": null,
      "metadata": {
        "id": "Jwe3F5JhG8SN"
      },
      "outputs": [],
      "source": [
        "regressor = LinearRegression()\n",
        "regressor.fit(x_train_poly, y_train)\n",
        "y_pred = regressor.predict(x_test_poly)\n",
        "print(y_pred)"
      ]
    },
    {
      "cell_type": "code",
      "execution_count": null,
      "metadata": {
        "id": "qVrn6zlhIWx6"
      },
      "outputs": [],
      "source": [
        "mse = mean_squared_error(y_test, y_pred)\n",
        "r2 = r2_score(y_test, y_pred)\n",
        "print(f\"Mean Squared Error : {mse}\")\n",
        "print(f\"r2 Score : {r2}\")"
      ]
    },
    {
      "cell_type": "code",
      "execution_count": null,
      "metadata": {
        "id": "op1PRTZsIuWT"
      },
      "outputs": [],
      "source": [
        "import matplotlib.pyplot as plt\n",
        "import seaborn as sns\n",
        "\n",
        "# Scatter plot for Price vs. CBD Distance\n",
        "plt.figure(figsize=(10, 6))\n",
        "sns.scatterplot(x=df['CBD_DIST'], y=df['PRICE'])\n",
        "plt.title('Price vs. CBD Distance')\n",
        "plt.xlabel('CBD Distance (km)')\n",
        "plt.ylabel('Price (AUD)')\n",
        "plt.show()\n",
        "\n",
        "# Scatter plot for Price vs. Nearest School Distance\n",
        "plt.figure(figsize=(10, 6))\n",
        "sns.scatterplot(x=df['NEAREST_SCH_DIST'], y=df['PRICE'])\n",
        "plt.title('Price vs. Nearest School Distance')\n",
        "plt.xlabel('Nearest School Distance (km)')\n",
        "plt.ylabel('Price (AUD)')\n",
        "plt.show()\n",
        "\n",
        "# Scatter plot for Price vs. Floor Area\n",
        "plt.figure(figsize=(10, 6))\n",
        "sns.scatterplot(x=df['FLOOR_AREA'], y=df['PRICE'])\n",
        "plt.title('Price vs. Floor Area')\n",
        "plt.xlabel('Floor Area (sqm)')\n",
        "plt.ylabel('Price (AUD)')\n",
        "plt.show()\n"
      ]
    },
    {
      "cell_type": "code",
      "execution_count": null,
      "metadata": {
        "id": "xNvyFX51I6ky"
      },
      "outputs": [],
      "source": [
        "import matplotlib.pyplot as plt\n",
        "import seaborn as sns\n",
        "\n",
        "# Predictions vs Actuals plot\n",
        "plt.figure(figsize=(10, 6))\n",
        "sns.scatterplot(x=y_test, y=y_pred)\n",
        "plt.plot([y_test.min(), y_test.max()], [y_test.min(), y_test.max()], color='red', linestyle='--')\n",
        "plt.title('Predicted Prices vs. Actual Prices')\n",
        "plt.xlabel('Actual Prices')\n",
        "plt.ylabel('Predicted Prices')\n",
        "plt.show()\n"
      ]
    },
    {
      "cell_type": "code",
      "execution_count": null,
      "metadata": {
        "id": "7_DoQTljNrQZ"
      },
      "outputs": [],
      "source": [
        "import numpy as np\n",
        "import matplotlib.pyplot as plt\n",
        "from sklearn.preprocessing import PolynomialFeatures\n",
        "from sklearn.linear_model import LinearRegression\n",
        "from sklearn.metrics import r2_score\n",
        "\n",
        "# Pilih satu fitur untuk visualisasi, misalnya 'CBD_DIST'\n",
        "X = df[['CBD_DIST']].values\n",
        "y = df['PRICE'].values\n",
        "\n",
        "# Urutkan data untuk plotting yang lebih baik\n",
        "sort_idx = X.flatten().argsort()\n",
        "X = X[sort_idx]\n",
        "y = y[sort_idx]\n",
        "\n",
        "# Fit model linear\n",
        "model_linear = LinearRegression()\n",
        "model_linear.fit(X, y)\n",
        "y_linear_pred = model_linear.predict(X)\n",
        "\n",
        "# Fit model polynomial\n",
        "poly_features = PolynomialFeatures(degree=4, include_bias=False)\n",
        "X_poly = poly_features.fit_transform(X)\n",
        "\n",
        "model_poly = LinearRegression()\n",
        "model_poly.fit(X_poly, y)\n",
        "y_poly_pred = model_poly.predict(X_poly)\n",
        "\n",
        "# Plot hasil\n",
        "plt.figure(figsize=(10, 6))\n",
        "plt.scatter(X, y, color='blue', label='Data')\n",
        "plt.plot(X, y_linear_pred, color='red', label='Linear Model')\n",
        "plt.plot(X, y_poly_pred, color='green', label='Polynomial Model')\n",
        "plt.xlabel('CBD Distance (km)')\n",
        "plt.ylabel('Price (AUD)')\n",
        "plt.title('Linear vs Polynomial Regression')\n",
        "plt.legend()\n",
        "plt.show()\n",
        "\n",
        "# Print R-squared scores\n",
        "print(f\"R-squared score (Linear): {r2_score(y, y_linear_pred):.4f}\")\n",
        "print(f\"R-squared score (Polynomial): {r2_score(y, y_poly_pred):.4f}\")\n"
      ]
    },
    {
      "cell_type": "code",
      "execution_count": null,
      "metadata": {
        "id": "3P-6zMTDNr9N"
      },
      "outputs": [],
      "source": [
        "corr = df[features + [target]].corr()\n",
        "\n",
        "plt.figure(figsize=(12, 10))\n",
        "sns.heatmap(corr, annot=True, cmap='coolwarm')\n",
        "plt.title('Correlation Heatmap')\n",
        "plt.show()\n",
        "\n",
        "sns.pairplot(df[features + [target]], height=2)\n",
        "plt.show()"
      ]
    },
    {
      "cell_type": "code",
      "execution_count": null,
      "metadata": {
        "id": "us7qizcOIqZr"
      },
      "outputs": [],
      "source": [
        "from sklearn.model_selection import GridSearchCV\n",
        "from sklearn.pipeline import make_pipeline\n",
        "param_grid = {'polynomialfeatures__degree' : [2, 3, 4, 5],\n",
        "              'linearregression__fit_intercept' : [True, False]}\n",
        "\n",
        "model = make_pipeline(PolynomialFeatures(), LinearRegression())\n",
        "grid_search = GridSearchCV(model, param_grid, cv=5, scoring='r2')\n",
        "grid_search.fit(x_train, y_train)\n",
        "\n",
        "print(f\"Best Parameters : {grid_search.best_params_}\")\n",
        "print(f\"Best R2 score : {grid_search.best_score_:.4f}\")"
      ]
    },
    {
      "cell_type": "code",
      "execution_count": null,
      "metadata": {
        "id": "5kDVgn24Ml7b"
      },
      "outputs": [],
      "source": [
        "best_model = make_pipeline(\n",
        "    PolynomialFeatures(degree=2),\n",
        "    LinearRegression(fit_intercept=False)\n",
        ")\n",
        "best_model.fit(x_train, y_train)\n",
        "y_pred = best_model.predict(x_test)"
      ]
    },
    {
      "cell_type": "code",
      "execution_count": null,
      "metadata": {
        "id": "C5DZrSS-UJBd"
      },
      "outputs": [],
      "source": [
        "import numpy as np\n",
        "import matplotlib.pyplot as plt\n",
        "\n",
        "poly_features = best_model.named_steps['polynomialfeatures']\n",
        "linear_regression = best_model.named_steps['linearregression']\n",
        "\n",
        "# Gunakan get_feature_names_out() jika tersedia, jika tidak gunakan get_feature_names()\n",
        "if hasattr(poly_features, 'get_feature_names_out'):\n",
        "    feature_names = poly_features.get_feature_names_out(input_features=features)\n",
        "else:\n",
        "    feature_names = poly_features.get_feature_names(input_features=features)\n",
        "\n",
        "coefficients = linear_regression.coef_\n",
        "\n",
        "for name, coef in zip(feature_names, coefficients):\n",
        "    print(f\"{name}: {coef}\")\n",
        "\n",
        "# Plot koefisien\n",
        "plt.figure(figsize=(12, 6))\n",
        "plt.bar(range(len(coefficients)), coefficients)\n",
        "plt.xticks(range(len(coefficients)), feature_names, rotation=90)\n",
        "plt.title('Feature Coefficients')\n",
        "plt.tight_layout()\n",
        "plt.show()"
      ]
    },
    {
      "cell_type": "code",
      "source": [
        "y_pred = best_model.predict(x_test)\n",
        "\n",
        "plt.figure(figsize=(10, 6))\n",
        "plt.scatter(y_test, y_pred, alpha=0.5)\n",
        "plt.plot([y_test.min(), y_test.max()], [y_test.min(), y_test.max()], 'r--', lw=2)\n",
        "plt.xlabel('Actual Price')\n",
        "plt.ylabel('Predicted Price')\n",
        "plt.title('Actual vs Predicted Prices')\n",
        "plt.tight_layout()\n",
        "plt.show()\n"
      ],
      "metadata": {
        "id": "sjLv5I2X7Vdj"
      },
      "execution_count": null,
      "outputs": []
    },
    {
      "cell_type": "code",
      "source": [
        "residuals = y_test - y_pred\n",
        "\n",
        "plt.figure(figsize=(10, 6))\n",
        "plt.scatter(y_pred, residuals, alpha=0.5)\n",
        "plt.hlines(y=0, xmin=y_pred.min(), xmax=y_pred.max(), colors='r', linestyles='--')\n",
        "plt.xlabel('Predicted Price')\n",
        "plt.ylabel('Residuals')\n",
        "plt.title('Residual Plot')\n",
        "plt.tight_layout()\n",
        "plt.show()\n",
        "\n",
        "# Q-Q plot\n",
        "from scipy import stats\n",
        "fig, ax = plt.subplots(figsize=(10, 6))\n",
        "stats.probplot(residuals, dist=\"norm\", plot=ax)\n",
        "ax.set_title(\"Q-Q plot\")\n",
        "plt.tight_layout()\n",
        "plt.show()"
      ],
      "metadata": {
        "id": "EgVCaZrV8yls"
      },
      "execution_count": null,
      "outputs": []
    },
    {
      "cell_type": "code",
      "source": [
        "from sklearn.inspection import permutation_importance\n",
        "\n",
        "perm_importance = permutation_importance(best_model, X_test, y_test, n_repeats=10, random_state=42)\n",
        "\n",
        "feature_importance = pd.DataFrame({\n",
        "    'feature': features,\n",
        "    'importance': perm_importance.importances_mean\n",
        "}).sort_values('importance', ascending=False)\n",
        "\n",
        "plt.figure(figsize=(10, 6))\n",
        "sns.barplot(x='importance', y='feature', data=feature_importance)\n",
        "plt.title('Feature Importance')\n",
        "plt.tight_layout()\n",
        "plt.show()"
      ],
      "metadata": {
        "id": "wJPzka-H9CGH"
      },
      "execution_count": null,
      "outputs": []
    },
    {
      "cell_type": "code",
      "source": [],
      "metadata": {
        "id": "w2ng-R1R9MmE"
      },
      "execution_count": null,
      "outputs": []
    }
  ],
  "metadata": {
    "colab": {
      "provenance": []
    },
    "kernelspec": {
      "display_name": "Python 3",
      "name": "python3"
    },
    "language_info": {
      "name": "python"
    }
  },
  "nbformat": 4,
  "nbformat_minor": 0
}